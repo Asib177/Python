{
  "nbformat": 4,
  "nbformat_minor": 0,
  "metadata": {
    "colab": {
      "provenance": []
    },
    "kernelspec": {
      "name": "python3",
      "display_name": "Python 3"
    },
    "language_info": {
      "name": "python"
    }
  },
  "cells": [
    {
      "cell_type": "markdown",
      "source": [
        "# Problem 1\n",
        "You are given a list of integers and q queries. Each query consists of two index i and j. You need to print out the average between i and j for each query.\n",
        "\n",
        "---\n",
        "**Input**\n",
        "\n",
        "5 4 3 8 1\n",
        "\n",
        "3\n",
        "\n",
        "0 2\n",
        "\n",
        "1 3\n",
        "\n",
        "0 4\n",
        "\n",
        "---\n",
        "**Output**\n",
        "\n",
        "3.0\n",
        "\n",
        "5.0\n",
        "\n",
        "4.2\n"
      ],
      "metadata": {
        "id": "L5PhCSHHGkAQ"
      }
    },
    {
      "cell_type": "code",
      "source": [
        "arr = list(map(int, input().split()))\n",
        "q = int(input())\n",
        "for _ in range(q):\n",
        "  i, j = tuple(map(int, input().split()))\n",
        "  #Code here\n",
        "  sum = 0\n",
        "  for l in range(i, j + 1):\n",
        "    sum += arr[l]\n",
        "  a = j - i + 1\n",
        "  avg = sum / a\n",
        "  print(avg)\n",
        "  ###\n"
      ],
      "metadata": {
        "colab": {
          "base_uri": "https://localhost:8080/"
        },
        "collapsed": true,
        "id": "Dy22lgybHZ13",
        "outputId": "7f40773b-5686-4afe-8994-b2a61facf522"
      },
      "execution_count": null,
      "outputs": [
        {
          "output_type": "stream",
          "name": "stdout",
          "text": [
            "5 4 3 8 1\n",
            "3\n",
            "0 2\n",
            "4.0\n",
            "1 3\n",
            "5.0\n",
            "0 4\n",
            "4.2\n"
          ]
        }
      ]
    },
    {
      "cell_type": "markdown",
      "source": [
        "# Problem 2\n",
        "You are given 2 strings a and b. You have print out a new string by interleaving a and b.\n",
        "\n",
        "\n",
        "---\n",
        "**Input**\n",
        "\n",
        "aab\n",
        "\n",
        "ceecc\n",
        "\n",
        "\n",
        "---\n",
        "**Output**\n",
        "\n",
        "acaebecc\n",
        "\n",
        "---\n",
        "**Input**\n",
        "\n",
        "ABBA\n",
        "\n",
        "CD\n",
        "\n",
        "---\n",
        "**Output**\n",
        "\n",
        "ACBDBA"
      ],
      "metadata": {
        "id": "d9WWsi2xHtx4"
      }
    },
    {
      "cell_type": "code",
      "source": [
        "a = input()\n",
        "b = input()\n",
        "new = \"\"\n",
        "#Code here\n",
        "i = 0\n",
        "j = 0\n",
        "\n",
        "while i < len(a) and j < len(b):\n",
        " new += a[i]\n",
        " new += b[j]\n",
        " i += 1\n",
        " j += 1\n",
        "\n",
        "while i < len(a):\n",
        " new += a[i]\n",
        " i += 1\n",
        "\n",
        "while j < len(b):\n",
        " new += b[j]\n",
        " j += 1\n",
        "###\n",
        "print(new)"
      ],
      "metadata": {
        "id": "0FQCFmlJjzMD",
        "colab": {
          "base_uri": "https://localhost:8080/"
        },
        "outputId": "e678585b-7b94-447e-e0ec-700b6d0a9dda"
      },
      "execution_count": 12,
      "outputs": [
        {
          "output_type": "stream",
          "name": "stdout",
          "text": [
            "ABBA\n",
            "CD\n",
            "ACBDBA\n"
          ]
        }
      ]
    },
    {
      "cell_type": "markdown",
      "source": [
        "# Problem 3\n",
        "\n",
        "Print whether a given number is prime or not.\n",
        "\n",
        "---\n",
        "**Input**\n",
        "\n",
        "7\n",
        "\n",
        "---\n",
        "**Ouput**\n",
        "\n",
        "Prime\n",
        "\n",
        "---\n",
        "**Input**\n",
        "\n",
        "8\n",
        "\n",
        "---\n",
        "**Output**\n",
        "\n",
        "Not prime\n",
        "\n",
        "\n",
        "\n"
      ],
      "metadata": {
        "id": "v_DBtFX4FxN_"
      }
    },
    {
      "cell_type": "code",
      "source": [
        "import math\n",
        "\n",
        "def checkPrime(n):\n",
        "  ##Code here\n",
        "  for i in range(2, int(math.sqrt(n)) + 1):\n",
        "    if n % i == 0:\n",
        "      return False\n",
        "  return True\n",
        "  ###\n",
        "\n",
        "n = int(input())\n",
        "if checkPrime(n):\n",
        "  print(\"Prime\")\n",
        "else:\n",
        "  print(\"Not prime\")"
      ],
      "metadata": {
        "id": "NlLn_0ufGSSQ",
        "outputId": "6eea0af6-0049-47ba-f19f-226365e21f79",
        "colab": {
          "base_uri": "https://localhost:8080/"
        }
      },
      "execution_count": null,
      "outputs": [
        {
          "output_type": "stream",
          "name": "stdout",
          "text": [
            "8\n",
            "Not prime\n"
          ]
        }
      ]
    },
    {
      "cell_type": "code",
      "source": [],
      "metadata": {
        "id": "nQ416XMcPkHP"
      },
      "execution_count": null,
      "outputs": []
    }
  ]
}